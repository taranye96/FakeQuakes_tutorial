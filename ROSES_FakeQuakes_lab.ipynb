{
 "cells": [
  {
   "cell_type": "markdown",
   "metadata": {},
   "source": [
    "![](https://raw.githubusercontent.com/fdannemanndugick/roses2021/main/header.png)"
   ]
  },
  {
   "cell_type": "markdown",
   "metadata": {},
   "source": [
    "<hr style=\"border:2px solid gray\"> </hr>"
   ]
  },
  {
   "cell_type": "markdown",
   "metadata": {},
   "source": [
    "# <center>FakeQuakes Synthetic Data Generation Lab</center>\n",
    "## <center>Instructor: Tara Nye</center>"
   ]
  },
  {
   "cell_type": "markdown",
   "metadata": {},
   "source": [
    "<hr style=\"border:2px solid gray\"> </hr>"
   ]
  },
  {
   "cell_type": "markdown",
   "metadata": {},
   "source": [
    "***\n",
    "## Overview"
   ]
  },
  {
   "cell_type": "markdown",
   "metadata": {},
   "source": [
    "The purpose of this exercise is to get familiar with the parameters and functions used to generate synthetic data using the forward modeling code FakeQuakes from the [MudPy](https://github.com/dmelgarm/MudPy) Github repository. FakeQuakes was created by __Dr. Diego Melgar__ (professor at the Unviersity of Oregon), and most of the components are outlined in the paper [__Kinematic rupture scenarios and synthetic displacement data: An example application to the Cascadia subduction zone__ (Melgar et al., 2016)](http://doi.wiley.com/10.1002/2016JB013314).  \n",
    "\n",
    "This set of codes generates synthetic rupture models and can generate low frequency displacement waveforms and broadband acceleration waveforms.\n",
    "\n",
    "For this lab, we will be using data from the Mentawai, Indonesia region.\n",
    "\n",
    "For more information on how to use FakeQuakes, you can refer to this [wiki page](https://github.com/taranye96/tsuquakes/wiki/FakeQuakes-Script) on my github account.  This wiki page walks you through how to set up the parameter file (__.fq.py__) listed in the [tsuquakes](https://github.com/taranye96/tsuquakes) respository and how to run the different steps in FakeQuakes.  If you have any other questions, feel free to contact me or Diego Melgar.\n",
    "\n",
    "Tara Nye: tnye@uoregon.edu\n",
    "<br>Diego Melgar: dmelgarm@uoregon.edu"
   ]
  },
  {
   "cell_type": "markdown",
   "metadata": {},
   "source": [
    "***\n",
    "## Project Setup"
   ]
  },
  {
   "cell_type": "markdown",
   "metadata": {},
   "source": [
    "If you haven't already, you will need to install MudPy following the instructions below:\n",
    "\n",
    "#### 1. Clone MudPy repository \n",
    "**`$ git clone https://github.com/dmelgarm/MudPy.git`**\n",
    "#### 2. Build the fk Green's function code\n",
    "#### - Inside *MudPy/src/fk/* run:\n",
    "**`$ make clean`**\n",
    "\n",
    "**`$ make all`**\n",
    "#### 3. Set Paths (.bash_profile or .bashrc script)\n",
    "#### - Add the Mudpy src/fk folder to your PATH variable \n",
    "#### i.e. in my .bash_profile script I have:\n",
    "**`export PATH=/Users/tnye/code/MudPy/src/fk:$PATH`**\n",
    "#### - Add the Mudpy src/python folder to your PYTHONPATH \n",
    "#### i.e. in my .bash_profile script I have:\n",
    "**`export PYTHONPATH=/Users/tnye/code/MudPy/src/python:$PYTHONPATH`**\n",
    "#### - Define the MUD environment variable\n",
    "#### i.e. in my .bash_profile script I have:\n",
    "**`export MUD=/Users/tnye/code/MudPy`**"
   ]
  },
  {
   "cell_type": "markdown",
   "metadata": {},
   "source": [
    "**Note:** You may need to reload your .bash_profile (or .bashrc) script after making changes to it by typing\n",
    "**`$ source .bash_profile`**\n",
    "into the terminal."
   ]
  },
  {
   "cell_type": "markdown",
   "metadata": {},
   "source": [
    "***\n",
    "Before generating synthetic data, you will need to set up a project folder.  FakeQuakes has a function to initialize a set of directories, given a **home** and **project_name** variable.  **/path/to/home/project_name/** is the path to the subdirectories that FakeQuakes will create.  These subdirectories will store the rupture files, Green's functions, waveforms, etc...\n",
    "\n",
    "You will need to create a new project folder for each new set of parameters (ex. new project for each exercise in the lab), but the **home** variable can stay the same. This is demonstrated under each exercise. \n",
    "\n",
    "In the **files** folder, I have included the three files you will need:\n",
    "- **mentawai.mod** (velocity model for Mentawai region)\n",
    "- **mentawai.fault** (Mentawai fault model)\n",
    "- **sm.gflist** (list of strong motion stations used to generate waveforms)"
   ]
  },
  {
   "cell_type": "markdown",
   "metadata": {},
   "source": [
    "***"
   ]
  },
  {
   "cell_type": "code",
   "execution_count": null,
   "metadata": {},
   "outputs": [],
   "source": [
    "# Standard Library Imports\n",
    "import os\n",
    "import numpy as np\n",
    "from obspy.core import UTCDateTime\n",
    "from obspy import read\n",
    "\n",
    "# MudPy Imports\n",
    "!pip install numba  # Numba is already installed with Anaconda, but it is not in the roses_2021 conda environment \n",
    "from mudpy import fakequakes,runslip,forward,view"
   ]
  },
  {
   "cell_type": "markdown",
   "metadata": {},
   "source": [
    "## Parameter List\n",
    "This is the full list of parameters used to run the different functions, but most of them you won't need to change. You need to run this cell though to define the parameters. There are descriptions next to each parameter, and I've included the important parameters you will need to define under each exercise.  "
   ]
  },
  {
   "cell_type": "code",
   "execution_count": null,
   "metadata": {},
   "outputs": [],
   "source": [
    "# Runtime parameters \n",
    "ncpus=1                                        # How many CPUS you want to use for parallelization (needs to be at least 2)\n",
    "Nrealizations=2                                # Number of fake ruptures to generate per magnitude bin\n",
    "hot_start=0\n",
    "\n",
    "# File parameters\n",
    "model_name='mentawai.mod'                      # Velocity model file name\n",
    "fault_name='mentawai.fault'                    # Fault model name\n",
    "mean_slip_name=None                            # Set to path of .rupt file if patterning synthetic runs after a mean rupture model\n",
    "run_name='mentawai'                            # Base name of each synthetic run (i.e. mentawai.000000, mentawai.000001, etc...)\n",
    "rupture_list='ruptures.list'                   # Name of list of ruptures that are used to generate waveforms.  'ruptures.list' uses the full list of ruptures FakeQuakes creates. If you create file with a sublist of ruptures, use that file name.\n",
    "distances_name='mentawai'                      # Name of matrix with estimated distances between subfaults i and j for every subfault pair\n",
    "load_distances=0                               # This should be zero the first time you run FakeQuakes with your fault model.\n",
    "\n",
    "# Source parameters\n",
    "UTM_zone='47N'                                 # UTM_zone for rupture region \n",
    "time_epi=UTCDateTime('2010-10-25T14:42:12Z')   # Origin time of event (can set to any time, as long as it's not in the future)\n",
    "target_Mw=np.array([8.5])                      # Desired magnitude(s), can either be one value or an array\n",
    "hypocenter=None                                # Coordinates of subfault closest to desired hypocenter, or set to None for random\n",
    "force_hypocenter=False                         # Set to True if hypocenter specified\n",
    "rake=90                                        # Average rake for subfaults\n",
    "scaling_law='T'                                # Type of rupture: T for thrust, S for strike-slip, N for normal\n",
    "force_magnitude=False                          # Set to True if you want the rupture magnitude to equal the exact target magnitude\n",
    "force_area=False                               # Set to True if you want the ruptures to fill the whole fault model\n",
    "\n",
    "# Correlation function parameters\n",
    "hurst=0.4                                      # Hurst exponent form Melgar and Hayes 2019\n",
    "Ldip='auto'                                    # Correlation length scaling: 'auto' uses Melgar and Hayes 2019, 'MB2002' uses Mai and Beroza 2002\n",
    "lognormal=True                                 # Keep this as True to solve the problem of some negative slip subfaults that are produced\n",
    "\n",
    "# Rupture propagation parameters\n",
    "rise_time_depths=[10,15]                       # Transition depths for rise time scaling (if slip shallower than first index, rise times are twice as long as calculated)\n",
    "max_slip=40                                    # Maximum sip (m) allowed in the model\n",
    "max_slip_rule=False                            # If true, uses a magntidude-depence for max slip\n",
    "shear_wave_fraction_deep=0.8                   # 0.8 is a standard value (Mai and Beroza 2002)\n",
    "source_time_function='dreger'                  # options are 'triangle' or 'cosine' or 'dreger'\n",
    "stf_falloff_rate=4                             # Only affects Dreger STF, 4-8 are reasonable values\n",
    "num_modes=72                                   # Number of modes in K-L expansion\n",
    "slab_name=None                                 # Slab 2.0 Ascii file for 3D geometry, set to None for simple 2D geometry\n",
    "mesh_name=None                                 # GMSH output file for 3D geometry, set to None for simple 2D geometry\n",
    "\n",
    "# Green's Functions parameters\n",
    "GF_list='sm.gflist'                            # Stations file name\n",
    "G_name='sm'                                    # Basename you want for the Green's functions matrices\n",
    "make_GFs=1                                     # This should be 1 to run Green's functions\n",
    "make_synthetics=1                              # This should be 1 to make the synthetics\n",
    "G_from_file=0                                  # This should be zero the first time you run FakeQuakes with your fault model and stations.\n",
    "\n",
    "# fk parameters\n",
    "# used to solve wave equation in frequency domain \n",
    "dk=0.1 ; pmin=0 ; pmax=1 ; kmax=20             # Should be set to 0.1, 0, 1, 20\n",
    "custom_stf=None                                # Assumes specified source time function above if set to None\n",
    "\n",
    "# Low frequency waveform parameters\n",
    "dt=0.5                                         # Sampling interval of LF data \n",
    "NFFT=512                                       # Number of samples in LF waveforms (should be in powers of 2)\n",
    "# dt*NFFT = length of low-frequency dispalcement record\n",
    "# want this value to be close to duration (length of high-frequency record)\n",
    "\n",
    "# High frequency waveform parameters\n",
    "stress_parameter=50                            # Stress drop measured in bars (standard value is 50)\n",
    "moho_depth_in_km=30.0                          # Average depth to Moho in this region \n",
    "Pwave=True                                     # Calculates P-waves as well as S-waves if set to True, else just S-Waves\n",
    "kappa=None                                     # Station kappa values: Options are GF_list for station-specific kappa, a singular value for all stations, or the default 0.04s for every station if set to None\n",
    "hf_dt=0.01                                     # Sampling interval of HF data\n",
    "duration=250                                   # Duration (in seconds) of HF record\n",
    "\n",
    "high_stress_depth=30                           # Doesn't do anything, but still shows up as a parameter. Set to whatever you want. \n",
    "\n",
    "# Match filter parameters\n",
    "zero_phase=True                                # If True, filters waveforms twice to remove phase shift, else filters once\n",
    "order=4                                        # Number of poles for filters\n",
    "fcorner=0.998                                  # Corner frequency at which to filter waveforms (needs to be between 0 and the Nyquist frequency)"
   ]
  },
  {
   "cell_type": "markdown",
   "metadata": {},
   "source": [
    "<hr style=\"border:1px solid gray\"> </hr>"
   ]
  },
  {
   "cell_type": "markdown",
   "metadata": {},
   "source": [
    "## 1. Generate two rupture models for a thrust earthquake with a target magnitude of 8.5.  Set the hypocenter to be a random subfault."
   ]
  },
  {
   "cell_type": "markdown",
   "metadata": {},
   "source": [
    "#### Define variables for project folder\n",
    "Note: I set **home** as your current working directory, but you can change it to be located in a different location."
   ]
  },
  {
   "cell_type": "code",
   "execution_count": null,
   "metadata": {},
   "outputs": [],
   "source": [
    "home = os.getcwd() + '/' # This sets the current working directory as the home path\n",
    "project_name='lab1' # Name of project folder that will be set up in home directory"
   ]
  },
  {
   "cell_type": "markdown",
   "metadata": {},
   "source": [
    "#### Initalize project folder"
   ]
  },
  {
   "cell_type": "code",
   "execution_count": null,
   "metadata": {},
   "outputs": [],
   "source": [
    "fakequakes.init(home,project_name)"
   ]
  },
  {
   "cell_type": "markdown",
   "metadata": {},
   "source": [
    "#### Copy over the files into their respective directories\n",
    "- __.mod__ should be placed in __*/home/project_name/structure/*__ \n",
    "- __.fault__ should be placed in __*/home/project_name/data/model_info/*__\n",
    "- __.gflist__ file should be placed in __*/home/project_folder/data/station_info/*__"
   ]
  },
  {
   "cell_type": "code",
   "execution_count": null,
   "metadata": {},
   "outputs": [],
   "source": [
    "!cp ./files/mentawai.mod $home/$project_name/structure\n",
    "!cp ./files/mentawai.fault $home/$project_name/data/model_info\n",
    "!cp ./files/sm.gflist $home/$project_name/data/station_info"
   ]
  },
  {
   "cell_type": "markdown",
   "metadata": {},
   "source": [
    "#### Change the needed parameters"
   ]
  },
  {
   "cell_type": "code",
   "execution_count": null,
   "metadata": {},
   "outputs": [],
   "source": [
    "Nrealizations = 2                 # Integer number of synthetic rupture models\n",
    "target_Mw = np.array([8.5])         # Has to be an array, even if you only want one target Mw\n",
    "hypocenter  =  None                  # None or [lon, lat, depth]\n",
    "force_hypocenter =  False             # True or False\n",
    "scaling_law = 'T'                   # 'T' for thrust, 'S' for strike-slip, or 'N' for normal\n",
    "force_magnitude =  False              # True or False"
   ]
  },
  {
   "cell_type": "markdown",
   "metadata": {},
   "source": [
    "#### Generate rupture models (~45 seconds)"
   ]
  },
  {
   "cell_type": "code",
   "execution_count": null,
   "metadata": {},
   "outputs": [],
   "source": [
    "fakequakes.generate_ruptures(home,project_name,run_name,fault_name,slab_name,mesh_name,load_distances,\n",
    "        distances_name,UTM_zone,target_Mw,model_name,hurst,Ldip,Lstrike,num_modes,Nrealizations,rake,\n",
    "        rise_time_depths,time_epi,max_slip,source_time_function,lognormal,slip_standard_deviation,scaling_law,\n",
    "        ncpus,mean_slip_name=mean_slip_name,force_magnitude=force_magnitude,force_area=force_area,\n",
    "        hypocenter=hypocenter,force_hypocenter=force_hypocenter,max_slip_rule=max_slip_rule)   "
   ]
  },
  {
   "cell_type": "markdown",
   "metadata": {},
   "source": [
    "#### View rupture models"
   ]
  },
  {
   "cell_type": "code",
   "execution_count": null,
   "metadata": {},
   "outputs": [],
   "source": [
    "%matplotlib inline\n",
    "view.quick_model(f'{home}/{project_name}/output/ruptures/mentawai.000000.rupt')\n",
    "view.quick_model(f'{home}{project_name}/output/ruptures/mentawai.000001.rupt')"
   ]
  },
  {
   "cell_type": "code",
   "execution_count": null,
   "metadata": {},
   "outputs": [],
   "source": [
    "# View logfile for first rupture\n",
    "logpath=os.getcwd() +'/' + project_name + '/output/ruptures/mentawai.000000.log'\n",
    "var=!cat $logpath\n",
    "var"
   ]
  },
  {
   "cell_type": "markdown",
   "metadata": {},
   "source": [
    "#### Compute Green's functions (~9 minutes)"
   ]
  },
  {
   "cell_type": "code",
   "execution_count": null,
   "metadata": {},
   "outputs": [],
   "source": [
    "# I changed ncpus to 4 to speed up computation time, but you can decrease it if you don't have 4 CPUs on your machine\n",
    "runslip.inversionGFs(home,project_name,GF_list,None,fault_name,model_name,\n",
    "        dt,None,NFFT,None,make_GFs,make_synthetics,dk,pmin,\n",
    "        pmax,kmax,0,time_epi,hot_start,ncpus,custom_stf,impulse=True) "
   ]
  },
  {
   "cell_type": "markdown",
   "metadata": {},
   "source": [
    "#### Make low-frequency waveforms (~20 seconds)"
   ]
  },
  {
   "cell_type": "code",
   "execution_count": null,
   "metadata": {},
   "outputs": [],
   "source": [
    "forward.waveforms_fakequakes(home,project_name,fault_name,rupture_list,GF_list,\n",
    "        model_name,run_name,dt,NFFT,G_from_file,G_name,source_time_function,\n",
    "        stf_falloff_rate)"
   ]
  },
  {
   "cell_type": "markdown",
   "metadata": {},
   "source": [
    "#### Plot the low-frequency dispalcement waveforms for the PPSI and MNSI stations\n",
    "**Note:** You can use Obspy to read in the sac files, and you can plot using matplotlib or Obspy's built in plotting function.  The low-frequency displacement waveforms are located in **/home/project_name/output/waveforms**, and they have an **LY*** channel code. "
   ]
  },
  {
   "cell_type": "code",
   "execution_count": null,
   "metadata": {},
   "outputs": [],
   "source": [
    "st1 = read(f'{home}/{project_name}/output/waveforms/mentawai.000000/PPSI.LYE.sac')\n",
    "tr1 = st1[0]\n",
    "st2 = read(f'{home}/{project_name}/output/waveforms/mentawai.000000/MNSI.LYE.sac')\n",
    "tr2 = st2[0]\n",
    "\n",
    "tr1.plot()\n",
    "tr2.plot()"
   ]
  },
  {
   "cell_type": "markdown",
   "metadata": {},
   "source": [
    "Station PPSI is located closer to the fault than MNSI, so it has a permanent static offset (permanent deformation).  MNSI returns to a displacement offset near 0 because it is further away from the fault and experiences little permanent deformation."
   ]
  },
  {
   "cell_type": "markdown",
   "metadata": {},
   "source": [
    "**Note:** If you only want to make low-frequency displacement waveforms (i.e. for GNSS stations), you would stop here.  If you want to make broadband waveforms, you would need to continue with the next few steps."
   ]
  },
  {
   "cell_type": "markdown",
   "metadata": {},
   "source": [
    "#### Make high-frequency waveforms (~4 minutes)"
   ]
  },
  {
   "cell_type": "code",
   "execution_count": null,
   "metadata": {},
   "outputs": [],
   "source": [
    "forward.hf_waveforms(home,project_name,fault_name,rupture_list,GF_list,\n",
    "                model_name,run_name,dt,NFFT,G_from_file,G_name,rise_time_depths,\n",
    "                moho_depth_in_km,ncpus,source_time_function=source_time_function,\n",
    "                duration=duration,stf_falloff_rate=stf_falloff_rate,hf_dt=hf_dt,\n",
    "                Pwave=Pwave,hot_start=hot_start,stress_parameter=stress_parameter,\n",
    "                high_stress_depth=high_stress_depth)"
   ]
  },
  {
   "cell_type": "markdown",
   "metadata": {},
   "source": [
    "#### Plot the high-frequency acceleration waveforms for the PPSI and MNSI stations\n",
    "**Note:** The high-frequency acceleration waveforms are located in **/home/project_name/output/waveforms**, and they have an **HN*** channel code. "
   ]
  },
  {
   "cell_type": "code",
   "execution_count": null,
   "metadata": {},
   "outputs": [],
   "source": [
    "st1 = read(f'{home}/{project_name}/output/waveforms/mentawai.000000/PPSI.HNE.mpi.sac')\n",
    "tr1 = st1[0]\n",
    "st2 = read(f'{home}/{project_name}/output/waveforms/mentawai.000000/MNSI.HNE.mpi.sac')\n",
    "tr2 = st2[0]\n",
    "\n",
    "tr1.plot()\n",
    "tr2.plot()"
   ]
  },
  {
   "cell_type": "markdown",
   "metadata": {},
   "source": [
    "#### Combine LF and HF waveforms using a matched filter                              "
   ]
  },
  {
   "cell_type": "code",
   "execution_count": null,
   "metadata": {},
   "outputs": [],
   "source": [
    "forward.match_filter(home,project_name,fault_name,rupture_list,GF_list,zero_phase,order,fcorner)"
   ]
  },
  {
   "cell_type": "markdown",
   "metadata": {},
   "source": [
    "#### Plot the broadband acceleration waveforms for the PPSI and MNSI stations\n",
    "**Note:** The broadband acceleration waveforms are located in **/home/project_name/output/waveforms**, and they have a **bb.HN*** channel code. "
   ]
  },
  {
   "cell_type": "code",
   "execution_count": null,
   "metadata": {},
   "outputs": [],
   "source": [
    "st1 = read(f'{home}/{project_name}/output/waveforms/mentawai.000000/PPSI.bb.HNE.sac')\n",
    "tr1 = st1[0]\n",
    "st2 = read(f'{home}/{project_name}/output/waveforms/mentawai.000000/MNSI.bb.HNE.sac')\n",
    "tr2 = st2[0]\n",
    "\n",
    "tr1.plot()\n",
    "tr2.plot()"
   ]
  },
  {
   "cell_type": "markdown",
   "metadata": {},
   "source": [
    "If you compare these broadband waveforms with the high-frequency ones, you can see more long-period energy contribution from the low-frequency waveforms."
   ]
  },
  {
   "cell_type": "markdown",
   "metadata": {},
   "source": [
    "<hr style=\"border:1px solid gray\"> </hr>"
   ]
  },
  {
   "cell_type": "markdown",
   "metadata": {},
   "source": [
    "## 2. Generate two rupture models for a M8 thrust earthquake.  Set the hypocenter to be the subfault with the coordinates 100.857727, -4.374691, 21.974."
   ]
  },
  {
   "cell_type": "markdown",
   "metadata": {},
   "source": [
    "#### Define variables for project folder\n",
    "**Note:** You can keep **home** the same and just change **project_name**."
   ]
  },
  {
   "cell_type": "code",
   "execution_count": null,
   "metadata": {},
   "outputs": [],
   "source": [
    "home = os.getcwd() + '/' # This sets the current working directory as the home path\n",
    "project_name='' "
   ]
  },
  {
   "cell_type": "markdown",
   "metadata": {},
   "source": [
    "#### Initialize project folder"
   ]
  },
  {
   "cell_type": "code",
   "execution_count": null,
   "metadata": {},
   "outputs": [],
   "source": [
    "fakequakes.init(home,project_name)"
   ]
  },
  {
   "cell_type": "markdown",
   "metadata": {},
   "source": [
    "#### Copy over the files into their respective directories"
   ]
  },
  {
   "cell_type": "code",
   "execution_count": null,
   "metadata": {},
   "outputs": [],
   "source": [
    "!cp ./files/mentawai.mod $home/$project_name/structure\n",
    "!cp ./files/mentawai.fault $home/$project_name/data/model_info\n",
    "!cp ./files/sm.gflist $home/$project_name/data/station_info"
   ]
  },
  {
   "cell_type": "markdown",
   "metadata": {},
   "source": [
    "**Note:** If you have already generated data for this fault file and set of stations, you can use the subfault distances and Green's functions matrices that were created previously, rather than make them from scratch every time.  This will speed up computation time for future runs. \n",
    "- set **G_from_file=1**\n",
    "- set **load_distances=1**\n",
    "- copy over .mseed files from **/GFs/matrices** from your previous project folder to your new one\n",
    "- copy over files from **/data/distances** from your previous project folder to your new one"
   ]
  },
  {
   "cell_type": "code",
   "execution_count": null,
   "metadata": {},
   "outputs": [],
   "source": [
    "# Project name from previous exercise\n",
    "project_name_old = ''"
   ]
  },
  {
   "cell_type": "code",
   "execution_count": null,
   "metadata": {},
   "outputs": [],
   "source": [
    "!cp -a $home/$project_name_old/GFs/matrices/. $home$project_name/GFs/matrices/\n",
    "!cp -a $home/$project_name_old/data/distances/. $home$project_name/data/distances/"
   ]
  },
  {
   "cell_type": "markdown",
   "metadata": {},
   "source": [
    "#### Change the needed parameters"
   ]
  },
  {
   "cell_type": "code",
   "execution_count": null,
   "metadata": {},
   "outputs": [],
   "source": [
    "Nrealizations = \n",
    "target_Mw = np.array([])\n",
    "hypocenter  = []\n",
    "force_hypocenter = \n",
    "scaling_law = \n",
    "force_magnitude =              \n",
    "force_area =\n",
    "\n",
    "load_distances = 1\n",
    "G_from_file = 1"
   ]
  },
  {
   "cell_type": "markdown",
   "metadata": {},
   "source": [
    "#### Generate rupture models (~20 seconds)"
   ]
  },
  {
   "cell_type": "code",
   "execution_count": null,
   "metadata": {},
   "outputs": [],
   "source": [
    "# Change ncpus to 2 so that we only create 2 rupture scenarios. If it is left at 4, it will try to create 4 scenarios.\n",
    "ncpus=2\n",
    "\n",
    "fakequakes.generate_ruptures(home,project_name,run_name,fault_name,slab_name,mesh_name,load_distances,\n",
    "        distances_name,UTM_zone,target_Mw,model_name,hurst,Ldip,Lstrike,num_modes,Nrealizations,rake,\n",
    "        rise_time_depths,time_epi,max_slip,source_time_function,lognormal,slip_standard_deviation,scaling_law,\n",
    "        ncpus,mean_slip_name=mean_slip_name,force_magnitude=force_magnitude,force_area=force_area,\n",
    "        hypocenter=hypocenter,force_hypocenter=force_hypocenter,shear_wave_fraction_deep=shear_wave_fraction_deep,\n",
    "        max_slip_rule=max_slip_rule)   "
   ]
  },
  {
   "cell_type": "markdown",
   "metadata": {},
   "source": [
    "#### View rupture models"
   ]
  },
  {
   "cell_type": "code",
   "execution_count": null,
   "metadata": {},
   "outputs": [],
   "source": [
    "%matplotlib inline\n",
    "#%matplotlib notebook\n",
    "logpath=os.getcwd() + '/' + project_name + '/output/ruptures/mentawai.000000.log'\n",
    "var=!cat $logpath\n",
    "var\n",
    "view.quick_model(f'{home}{project_name}/output/ruptures/mentawai.000000.rupt')\n",
    "view.quick_model(f'{home}{project_name}/output/ruptures/mentawai.000001.rupt')"
   ]
  },
  {
   "cell_type": "markdown",
   "metadata": {},
   "source": [
    "#### Compute Green's functions and make low-frequency dispalcement waveforms (~9 minutes)"
   ]
  },
  {
   "cell_type": "code",
   "execution_count": null,
   "metadata": {},
   "outputs": [],
   "source": [
    "# Change ncpus to 4 to speed up computation time\n",
    "ncpus=4\n",
    "\n",
    "runslip.inversionGFs(home,project_name,GF_list,None,fault_name,model_name,\n",
    "        dt,None,NFFT,None,make_GFs,make_synthetics,dk,pmin,\n",
    "        pmax,kmax,0,time_epi,hot_start,ncpus,custom_stf,impulse=True) \n",
    "\n",
    "forward.waveforms_fakequakes(home,project_name,fault_name,rupture_list,GF_list,\n",
    "        model_name,run_name,dt,NFFT,G_from_file,G_name,source_time_function,\n",
    "        stf_falloff_rate)"
   ]
  },
  {
   "cell_type": "markdown",
   "metadata": {},
   "source": [
    "#### Plot the low-frequency dispalcement waveforms for the PPSI and MNSI stations"
   ]
  },
  {
   "cell_type": "code",
   "execution_count": null,
   "metadata": {},
   "outputs": [],
   "source": []
  },
  {
   "cell_type": "markdown",
   "metadata": {},
   "source": [
    "#### Make high-frequency waveforms (~2 minutes)"
   ]
  },
  {
   "cell_type": "code",
   "execution_count": null,
   "metadata": {},
   "outputs": [],
   "source": [
    "start = time.time()\n",
    "forward.hf_waveforms(home,project_name,fault_name,rupture_list,GF_list,\n",
    "                model_name,run_name,dt,NFFT,G_from_file,G_name,rise_time_depths,\n",
    "                moho_depth_in_km,ncpus,source_time_function=source_time_function,\n",
    "                duration=duration,stf_falloff_rate=stf_falloff_rate,hf_dt=hf_dt,\n",
    "                Pwave=Pwave,hot_start=hot_start,stress_parameter=stress_parameter,\n",
    "                high_stress_depth=high_stress_depth)\n",
    "end = time.time()\n",
    "time_elaps = end - start\n",
    "if time_elaps < 60:\n",
    "    print(f'Duration: {round(time_elaps)} seconds')\n",
    "else:\n",
    "    print(f'Duration: {round(time_elaps/60)} minutes') "
   ]
  },
  {
   "cell_type": "markdown",
   "metadata": {},
   "source": [
    "#### Plot the high-frequency acceleration waveforms for the PPSI and MNSI stations"
   ]
  },
  {
   "cell_type": "code",
   "execution_count": null,
   "metadata": {},
   "outputs": [],
   "source": []
  },
  {
   "cell_type": "markdown",
   "metadata": {},
   "source": [
    "#### Combine LF and HF waveforms with matched filter      "
   ]
  },
  {
   "cell_type": "code",
   "execution_count": null,
   "metadata": {},
   "outputs": [],
   "source": [
    "forward.match_filter(home,project_name,fault_name,rupture_list,GF_list,zero_phase,order,fcorner)"
   ]
  },
  {
   "cell_type": "markdown",
   "metadata": {},
   "source": [
    "#### Plot the east component of the broadband acceleration waveforms for the PPSI and MNSI stations"
   ]
  },
  {
   "cell_type": "code",
   "execution_count": null,
   "metadata": {},
   "outputs": [],
   "source": []
  },
  {
   "cell_type": "markdown",
   "metadata": {},
   "source": [
    "<hr style=\"border:1px solid gray\"> </hr>"
   ]
  },
  {
   "cell_type": "markdown",
   "metadata": {},
   "source": [
    "## 3. Generate two rupture models each for a M7.5 and M8.5 thrust earthquake.  Set the hypocenter to be random."
   ]
  },
  {
   "cell_type": "markdown",
   "metadata": {},
   "source": [
    "#### Define variables for project folder"
   ]
  },
  {
   "cell_type": "code",
   "execution_count": null,
   "metadata": {},
   "outputs": [],
   "source": [
    "home = os.getcwd() + '/' # This sets the current working directory as the home path\n",
    "project_name='' "
   ]
  },
  {
   "cell_type": "markdown",
   "metadata": {},
   "source": [
    "#### Initialize project folder"
   ]
  },
  {
   "cell_type": "code",
   "execution_count": null,
   "metadata": {},
   "outputs": [],
   "source": [
    "fakequakes.init(home,project_name)"
   ]
  },
  {
   "cell_type": "markdown",
   "metadata": {},
   "source": [
    "#### Copy over the files into their respective directories."
   ]
  },
  {
   "cell_type": "code",
   "execution_count": null,
   "metadata": {},
   "outputs": [],
   "source": [
    "!cp ./files/mentawai.mod $home/$project_name/structure\n",
    "!cp ./files/mentawai.fault $home/$project_name/data/model_info\n",
    "!cp ./files/sm.gflist $home/$project_name/data/station_info"
   ]
  },
  {
   "cell_type": "markdown",
   "metadata": {},
   "source": [
    "#### Copy over distances and Green's functions files"
   ]
  },
  {
   "cell_type": "code",
   "execution_count": null,
   "metadata": {},
   "outputs": [],
   "source": [
    "# Project name from previous exercise\n",
    "project_name_old = ''\n",
    "\n",
    "!cp -a $home/$project_name_old/GFs/matrices/. $home$project_name/GFs/matrices/\n",
    "!cp -a $home/$project_name_old/data/distances/. $home$project_name/data/distances/"
   ]
  },
  {
   "cell_type": "markdown",
   "metadata": {},
   "source": [
    "#### Change the needed parameters"
   ]
  },
  {
   "cell_type": "code",
   "execution_count": null,
   "metadata": {},
   "outputs": [],
   "source": [
    "Nrealizations = \n",
    "target_Mw = np.array([])\n",
    "hypocenter  = \n",
    "force_hypocenter = \n",
    "scaling_law = \n",
    "force_magnitude =                 \n",
    "\n",
    "load_distances = 1\n",
    "G_from_file = 1"
   ]
  },
  {
   "cell_type": "markdown",
   "metadata": {},
   "source": [
    "#### Generate rupture models (~30 seconds)"
   ]
  },
  {
   "cell_type": "code",
   "execution_count": null,
   "metadata": {},
   "outputs": [],
   "source": [
    "# Change ncpus to 2 so that we only create 2 rupture scenarios for each magnitude\n",
    "ncpus=2\n",
    "\n",
    "fakequakes.generate_ruptures(home,project_name,run_name,fault_name,slab_name,mesh_name,load_distances,\n",
    "        distances_name,UTM_zone,target_Mw,model_name,hurst,Ldip,Lstrike,num_modes,Nrealizations,rake,\n",
    "        rise_time_depths,time_epi,max_slip,source_time_function,lognormal,slip_standard_deviation,scaling_law,\n",
    "        ncpus,mean_slip_name=mean_slip_name,force_magnitude=force_magnitude,force_area=force_area,\n",
    "        hypocenter=hypocenter,force_hypocenter=force_hypocenter,shear_wave_fraction_deep=shear_wave_fraction_deep,\n",
    "        max_slip_rule=max_slip_rule)   "
   ]
  },
  {
   "cell_type": "markdown",
   "metadata": {},
   "source": [
    "#### View rupture models"
   ]
  },
  {
   "cell_type": "code",
   "execution_count": null,
   "metadata": {},
   "outputs": [],
   "source": [
    "%matplotlib inline\n",
    "#%matplotlib notebook\n",
    "logpath=os.getcwd() + '/' + project_name + '/output/ruptures/mentawai.000000.log'\n",
    "var=!cat $logpath\n",
    "var\n",
    "\n",
    "# First of the M7.5 ruptures\n",
    "view.quick_model(f'{home}{project_name}/output/ruptures/mentawai.000000.rupt')\n",
    "# First of the M8.5 ruptures\n",
    "view.quick_model(f'{home}{project_name}/output/ruptures/mentawai.000002.rupt')"
   ]
  },
  {
   "cell_type": "markdown",
   "metadata": {},
   "source": [
    "#### Compute Green's functions and make low-frequency dispalcement waveforms (~9 minutes)"
   ]
  },
  {
   "cell_type": "code",
   "execution_count": null,
   "metadata": {},
   "outputs": [],
   "source": [
    "# Change ncpus to 4 to speed up computation time\n",
    "ncpus=4\n",
    "\n",
    "runslip.inversionGFs(home,project_name,GF_list,None,fault_name,model_name,\n",
    "        dt,None,NFFT,None,make_GFs,make_synthetics,dk,pmin,\n",
    "        pmax,kmax,0,time_epi,hot_start,ncpus,custom_stf,impulse=True) \n",
    "\n",
    "forward.waveforms_fakequakes(home,project_name,fault_name,rupture_list,GF_list,\n",
    "        model_name,run_name,dt,NFFT,G_from_file,G_name,source_time_function,\n",
    "        stf_falloff_rate)"
   ]
  },
  {
   "cell_type": "markdown",
   "metadata": {},
   "source": [
    "#### Plot the low-frequency dispalcement waveforms for the PPSI and MNSI stations. "
   ]
  },
  {
   "cell_type": "code",
   "execution_count": null,
   "metadata": {},
   "outputs": [],
   "source": []
  },
  {
   "cell_type": "markdown",
   "metadata": {},
   "source": [
    "#### Make high-frequency waveforms (~5 minutes)"
   ]
  },
  {
   "cell_type": "code",
   "execution_count": null,
   "metadata": {},
   "outputs": [],
   "source": [
    "forward.hf_waveforms(home,project_name,fault_name,rupture_list,GF_list,\n",
    "                model_name,run_name,dt,NFFT,G_from_file,G_name,rise_time_depths,\n",
    "                moho_depth_in_km,ncpus,source_time_function=source_time_function,\n",
    "                duration=duration,stf_falloff_rate=stf_falloff_rate,hf_dt=hf_dt,\n",
    "                Pwave=Pwave,hot_start=hot_start,stress_parameter=stress_parameter,\n",
    "                high_stress_depth=high_stress_depth)"
   ]
  },
  {
   "cell_type": "markdown",
   "metadata": {},
   "source": [
    "#### Plot the high-frequency acceleration waveforms for the PPSI and MNSI stations"
   ]
  },
  {
   "cell_type": "code",
   "execution_count": null,
   "metadata": {},
   "outputs": [],
   "source": []
  },
  {
   "cell_type": "markdown",
   "metadata": {},
   "source": [
    "#### Combine LF and HF waveforms with matched filter      "
   ]
  },
  {
   "cell_type": "code",
   "execution_count": null,
   "metadata": {},
   "outputs": [],
   "source": [
    "forward.match_filter(home,project_name,fault_name,rupture_list,GF_list,zero_phase,order,fcorner)"
   ]
  },
  {
   "cell_type": "markdown",
   "metadata": {},
   "source": [
    "#### Plot the broadband acceleration waveforms for the PPSI and MNSI stations"
   ]
  },
  {
   "cell_type": "code",
   "execution_count": null,
   "metadata": {},
   "outputs": [],
   "source": []
  },
  {
   "cell_type": "markdown",
   "metadata": {},
   "source": [
    "<hr style=\"border:1px solid gray\"> </hr>"
   ]
  },
  {
   "cell_type": "markdown",
   "metadata": {},
   "source": [
    "# <center> Final Notes </center>\n",
    "* All rupture files are stored in __/output/ruptures/__\n",
    "* All waveforms are stored in __/output/waveforms/__\n",
    "    * __.LY*.sac__ files are the low-frequency displacement files\n",
    "    * __.HN*mpi.sac__ files are the high-frequency acceleration files\n",
    "    * __.bb.HN*.sac__ files are the final broadband acceleration waveforms"
   ]
  },
  {
   "cell_type": "markdown",
   "metadata": {},
   "source": [
    "### References\n",
    "Blaser, L., F. Krüger, M. Ohrnberger, and F. Scherbaum (2010), Scaling relations of earthquake source parameter estimates with special focus on subduction environment, Bull. Seism. Soc. Am., 100, 2914–2926.\n",
    "\n",
    "Graves, R., and A. Pitarka (2015), Refinements to the Graves and Pitarka (2010) broadband ground-motion simulation method, Seismol. Res. Lett., 86(1), 75–80.\n",
    "\n",
    "Graves, R. W., & Pitarka, A. (2010), Broadband Ground-Motion Simulation Using a Hybrid Approach. Bulletin of the Seismological Society of America, 100(5A), 2095-2123. doi:10.1785/0120100057\n",
    "\n",
    "Mai, P. M., and Beroza, G. C. (2002), A spatial random field model to characterize complexity in earthquake slip, J. Geophys. Res., 107(B11), 2308, doi:10.1029/2001JB000588\n",
    "\n",
    "Melgar, D., Leveque, R. J., Dreger, D. S., & Allen, R. M. (2016), Kinematic rupture scenarios and synthetic displacement data: An example application to the Cascadia subduction zone. Journal of Geophysical Research: Solid Earth, 121(9), 6658-6674, doi:10.1002/2016jb013314\n",
    "\n",
    "Yue, H., Lay, T., Rivera, L., Bai, Y., Yamazaki, Y., Cheung, K. F., … Muhari, A. (2014), Rupture process of the 2010 Mw 7.8 Mentawai tsunami earthquake from joint inversion of near-field hr-GPS and teleseismic body wave recordings constrained by tsunami observations. AGU: Journal of Geophysical Research, Solid Earth, 119, 5574–5593, doi:10.1002/2014JB011082\n",
    "\n",
    "Zhu, L., & Rivera, L. A. (2002), A note on the dynamic and static displacements from a point source in multilayered media. Geophysical Journal International, 148(3), 619-627, doi:10.1046/j.1365-246x.2002.01610.x"
   ]
  }
 ],
 "metadata": {
  "kernelspec": {
   "display_name": "Python 3",
   "language": "python",
   "name": "python3"
  },
  "language_info": {
   "codemirror_mode": {
    "name": "ipython",
    "version": 3
   },
   "file_extension": ".py",
   "mimetype": "text/x-python",
   "name": "python",
   "nbconvert_exporter": "python",
   "pygments_lexer": "ipython3",
   "version": "3.7.3"
  }
 },
 "nbformat": 4,
 "nbformat_minor": 4
}
