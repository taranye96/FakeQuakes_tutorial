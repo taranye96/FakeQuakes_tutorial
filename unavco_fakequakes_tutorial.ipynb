{
 "cells": [
  {
   "cell_type": "markdown",
   "metadata": {},
   "source": [
    "<hr style=\"border:2px solid gray\"> </hr>"
   ]
  },
  {
   "cell_type": "markdown",
   "metadata": {},
   "source": [
    "# <center>FakeQuakes Tutorial</center>\n",
    "## <center>Generates synthetic rupture models and waveforms </center>\n",
    "### <center>Tara Nye</center>\n",
    "### <center>PhD Candidate | University of Oregon</center>"
   ]
  },
  {
   "cell_type": "markdown",
   "metadata": {},
   "source": [
    "<hr style=\"border:2px solid gray\"> </hr>"
   ]
  },
  {
   "cell_type": "markdown",
   "metadata": {},
   "source": [
    "FakeQuakes is a set of semistochastic foward modeling codes from the github repository [MudPy](https://github.com/dmelgarm/MudPy).  FakeQuakes was created by __Dr. Diego Melgar__ (professor at the Unviersity of Oregon), and the components are outlined in the paper [__Kinematic rupture scenarios and synthetic displacement data: An example application to the Cascadia subduction zone__ (Melgar et al., 2016)](http://doi.wiley.com/10.1002/2016JB013314).  \n",
    "\n",
    "This set of codes generates synthetic rupture models and can generate low frequency displacement waveforms and broadband acceleration waveforms.\n",
    "\n",
    "For more information on how to use FakeQuakes, you can refer to this [wiki page](https://github.com/taranye96/tsuquakes/wiki/FakeQuakes-Script) on my github account.  This page walks you through how to set up the parameter file (__.fq.py__) listed in the [tsuquakes](https://github.com/taranye96/tsuquakes) respository and how to run the different steps in FakeQuakes.  If you have any other questions, feel free to contact me or Diego Melgar.\n",
    "\n",
    "Tara Nye: tnye@uoregon.edu\n",
    "<br>Diego Melgar: dmelgarm@uoregon.edu"
   ]
  },
  {
   "cell_type": "markdown",
   "metadata": {},
   "source": [
    "<img src=\"./figures/rupture_models.png\"/>\n",
    "\n",
    "<br>__Figure 1.__ Mean slip model for the 2010 M7.8 Mentawai event on the left (modified from Yue et al., 2014), and two example synthetic rupture models patterned after this event in the center and on the right."
   ]
  },
  {
   "cell_type": "markdown",
   "metadata": {},
   "source": [
    "<hr style=\"border:1px solid gray\"> </hr>"
   ]
  },
  {
   "cell_type": "markdown",
   "metadata": {},
   "source": [
    "# <center>Project Setup</center>"
   ]
  },
  {
   "cell_type": "markdown",
   "metadata": {},
   "source": [
    "## Initial questions to ask before generating data:\n",
    "### 1. What type of earthquake (thrust, normal, strike-slip)?\n",
    "### 2. What is my target magnitude (or magnitude range)?\n",
    "### 3. Where is my source region?\n",
    "### 4. What is the regional velocity structure?\n",
    "### 5. What type of data (displacement, acceleration)?\n",
    "### 6. What stations do I want to use? "
   ]
  },
  {
   "cell_type": "markdown",
   "metadata": {},
   "source": [
    "<a id='directories'></a>\n",
    "***\n",
    "## <center>Setup Directories</center>\n",
    "### In the FakeQuakes_tutorial folder, there is a files folder with these types of files:\n",
    "- __.fault__ (fault model with subfault dimensions that will be used to generate the rupture scenarios)\n",
    "- __.mod__ (velocity profile model for the region where the synthetic scenarios are being generated)\n",
    "- __.gflist__ (list of the stations and their coordinates)"
   ]
  },
  {
   "cell_type": "markdown",
   "metadata": {},
   "source": [
    "### __.fault__ \n",
    "(Modified from Yue et al., 2014)"
   ]
  },
  {
   "cell_type": "code",
   "execution_count": null,
   "metadata": {},
   "outputs": [],
   "source": [
    "!head ./files/mentawai.fault\n",
    "# Subfault, lon, lat, depth(km), strike, dip, type(doesn't do anything), risetime(doesn't do anything), \n",
    "# Subfault length(m), subfault width(m)\n",
    "\n",
    "# The columns that don't do anything are left over from slip inversion file setup, but need to be included \n",
    "# in the structure of the file. "
   ]
  },
  {
   "cell_type": "markdown",
   "metadata": {},
   "source": [
    "### __.mod__"
   ]
  },
  {
   "cell_type": "code",
   "execution_count": null,
   "metadata": {},
   "outputs": [],
   "source": [
    "!head ./files/mentawai.mod\n",
    "# Thickness of layer(km), Vs(km/s), Vp(km/s), Density(g/cm^3), QS, QP\n",
    "# Last area has to be thickness of 0 (infinite below this)"
   ]
  },
  {
   "cell_type": "markdown",
   "metadata": {},
   "source": [
    "### __.gflist__ "
   ]
  },
  {
   "cell_type": "code",
   "execution_count": null,
   "metadata": {},
   "outputs": [],
   "source": [
    "!head ./files/gnss.gflist"
   ]
  },
  {
   "cell_type": "markdown",
   "metadata": {},
   "source": [
    "### We need to initialize the project folder and put these files into their respective folders"
   ]
  },
  {
   "cell_type": "code",
   "execution_count": null,
   "metadata": {},
   "outputs": [],
   "source": [
    "# Standard Library Imports\n",
    "import os\n",
    "import numpy as np\n",
    "from obspy.core import UTCDateTime\n",
    "from obspy import read\n",
    "import time\n",
    "\n",
    "# MudPy Imports\n",
    "from mudpy import fakequakes,runslip,forward,view"
   ]
  },
  {
   "cell_type": "code",
   "execution_count": null,
   "metadata": {},
   "outputs": [],
   "source": [
    "# Define variables for project location \n",
    "home = os.getcwd() + '/' # This sets the current working directory as the home path\n",
    "project_name='demo' # Name of project folder that will be set up in home directory "
   ]
  },
  {
   "cell_type": "markdown",
   "metadata": {},
   "source": [
    "If you don't have the dependencies installed, or you want to just use the data I created, set __project_name=demo__"
   ]
  },
  {
   "cell_type": "code",
   "execution_count": null,
   "metadata": {},
   "outputs": [],
   "source": [
    "# Initalize project folders\n",
    "if project_name != 'demo':\n",
    "    fakequakes.init(home,project_name)"
   ]
  },
  {
   "cell_type": "markdown",
   "metadata": {},
   "source": [
    "### Copy the files into these folders \n",
    "- __.fault__ should be placed in __*/home/project_name/data/model_info/*__\n",
    "- __.mod__ should be placed in __*/home/project_name/structure/*__ \n",
    "- __.gflist__ file should be placed in __*/home/project_folder/data/station_info/*__"
   ]
  },
  {
   "cell_type": "code",
   "execution_count": null,
   "metadata": {},
   "outputs": [],
   "source": [
    "!cp ./files/mentawai.fault $home/$project_name/data/model_info\n",
    "!cp ./files/mentawai.mod $home/$project_name/structure\n",
    "!cp ./files/gnss.gflist $home/$project_name/data/station_info"
   ]
  },
  {
   "cell_type": "markdown",
   "metadata": {},
   "source": [
    "<a id='parameters'></a>"
   ]
  },
  {
   "cell_type": "markdown",
   "metadata": {},
   "source": [
    "<a id='parameters'></a>\n",
    "***\n",
    "## <center>Define Parameters</center>\n",
    "### Rupture parameters"
   ]
  },
  {
   "cell_type": "code",
   "execution_count": null,
   "metadata": {},
   "outputs": [],
   "source": [
    "# Runtime parameters \n",
    "ncpus=2                                        # how many CPUS you want to use for parallelization (needs ot be at least 2)\n",
    "Nrealizations=2                                # Number of fake ruptures to generate per magnitude bin\n",
    "hot_start=0                                    # If code quits in the middle of running, it will pick back up at this index\n",
    "\n",
    "# File parameters\n",
    "model_name='mentawai.mod'                      # Velocity model file name\n",
    "fault_name='mentawai.fault'                    # Fault model name\n",
    "mean_slip_name=None                            # Set to path of .rupt file if patterning synthetic runs after a mean rupture model\n",
    "run_name='mentawai'                            # Base name of each synthetic run (i.e. mentawai.000000, mentawai.000001, etc...)\n",
    "rupture_list='ruptures.list'                   # Name of list of ruptures that are used to generate waveforms.  'ruptures.list' uses the full list of ruptures FakeQuakes creates. If you create file with a sublist of ruptures, use that file name.\n",
    "distances_name='mentawai'                      # Name of matrix with estimated distances between subfaults i and j for every subfault pair\n",
    "load_distances=0                               # This should be zero the first time you run FakeQuakes with your fault model."
   ]
  },
  {
   "cell_type": "code",
   "execution_count": null,
   "metadata": {},
   "outputs": [],
   "source": [
    "# Source parameters\n",
    "UTM_zone='47N'                                 # UTM_zone for rupture region \n",
    "time_epi=UTCDateTime('2010-10-25T14:42:12Z')   # Origin time of event (can set to any time, as long as it's not in the future)\n",
    "target_Mw=np.array([8.5])                      # Desired magnitude(s), can either be one value or an array\n",
    "hypocenter=None                                # Coordinates of subfault closest to desired hypocenter, or set to None for random\n",
    "force_hypocenter=False                         # Set to True if hypocenter specified\n",
    "rake=90                                        # Average rake for subfaults\n",
    "scaling_law='T'                                # Type of rupture: T for thrust, S for strike-slip, N for normal\n",
    "force_magnitude=False                          # Set to True if you want the rupture magnitude to equal the exact target magnitude\n",
    "force_area=False                               # Set to True if you want the ruptures to fill the whole fault model"
   ]
  },
  {
   "cell_type": "code",
   "execution_count": null,
   "metadata": {},
   "outputs": [],
   "source": [
    "# Correlation function parameters\n",
    "hurst=0.4                                      # Hurst exponent form Melgar and Hayes 2019\n",
    "Ldip='auto'                                    # Correlation length scaling: 'auto' uses Melgar and Hayes 2019, 'MB2002' uses Mai and Beroza 2002\n",
    "Lstrike='auto'                                 # Same as above\n",
    "slip_standard_deviation=0.9                    # Standard deviation for slip statistics: Keep this at 0.9\n",
    "lognormal=True                                 # Keep this as True to solve the problem of some negative slip subfaults that are produced"
   ]
  },
  {
   "cell_type": "code",
   "execution_count": null,
   "metadata": {},
   "outputs": [],
   "source": [
    "# Rupture propagation parameters\n",
    "rise_time_depths=[10,15]                       # Transition depths for rise time scaling (if slip shallower than first index, rise times are twice as long as calculated)\n",
    "max_slip=40                                    # Maximum sip (m) allowed in the model\n",
    "max_slip_rule=False                            # If true, uses a magntidude-depence for max slip\n",
    "shear_wave_fraction=0.8                        # 0.8 is a standard value (Mai and Beroza 2002)\n",
    "source_time_function='dreger'                  # options are 'triangle' or 'cosine' or 'dreger'\n",
    "stf_falloff_rate=4                             # Only affects Dreger STF, 4-8 are reasonable values\n",
    "num_modes=72                                   # Number of modes in K-L expansion\n",
    "slab_name=None                                 # Slab 2.0 Ascii file for 3D geometry, set to None for simple 2D geometry\n",
    "mesh_name=None                                 # GMSH output file for 3D geometry, set to None for simple 2D geometry"
   ]
  },
  {
   "cell_type": "markdown",
   "metadata": {},
   "source": [
    "### Waveform Parameters"
   ]
  },
  {
   "cell_type": "code",
   "execution_count": null,
   "metadata": {},
   "outputs": [],
   "source": [
    "# Green's Functions parameters\n",
    "GF_list='gnss.gflist'                          # Stations file name\n",
    "G_name='gnss'                                  # Basename you want for the Green's functions matrices\n",
    "make_GFs=1                                     # This should be 1 to run Green's functions\n",
    "make_synthetics=1                              # This should be 1 to make the synthetics\n",
    "G_from_file=0                                  # This should be zero the first time you run FakeQuakes with your fault model and stations.\n",
    "\n",
    "# fk parameters\n",
    "# used to solve wave equation in frequency domain \n",
    "dk=0.1 ; pmin=0 ; pmax=1 ; kmax=20             # Should be set to 0.1, 0, 1, 20\n",
    "custom_stf=None                                # Assumes specified source time function above if set to None"
   ]
  },
  {
   "cell_type": "code",
   "execution_count": null,
   "metadata": {},
   "outputs": [],
   "source": [
    "# Low frequency waveform parameters\n",
    "dt=0.5                                         # Sampling interval of LF data \n",
    "NFFT=512                                       # Number of samples in LF waveforms (should be in powers of 2)\n",
    "\n",
    "# dt*NFFT = length of low-frequency dispalcement record"
   ]
  },
  {
   "cell_type": "markdown",
   "metadata": {},
   "source": [
    "### Whew...we're finally done setting up the parameters"
   ]
  },
  {
   "cell_type": "markdown",
   "metadata": {},
   "source": [
    "<a id='generate_ruptures'></a>"
   ]
  },
  {
   "cell_type": "markdown",
   "metadata": {},
   "source": [
    "<a id='generate_ruptures'></a>\n",
    "<hr style=\"border:1px solid gray\"> </hr>"
   ]
  },
  {
   "cell_type": "markdown",
   "metadata": {},
   "source": [
    "# <center>Generate Rupture Models</center>\n",
    "This step uses the __fakequakes.generate_ruptures__ function to generate the different rupture models.  The outputs are .rupt files which are the rupture models with information on each subfault, and .log files which give details on the rupture, such as magntidue, hypocenter, origin time, etc...  Most of this is taken from Mai and Beroza (2002).  \n",
    "<br>There are two main types of rupture models you can make:\n",
    "- a rupture model patterned after a real or average rupture model.\n",
    "- a rupture model with completely random slip patterns\n",
    "\n",
    "<br> For this tutorial, we will be making random rupture models for the Mentawai region. "
   ]
  },
  {
   "cell_type": "code",
   "execution_count": null,
   "metadata": {},
   "outputs": [],
   "source": [
    "if project_name != 'demo':\n",
    "    start = time.time()\n",
    "   \n",
    "    #Generate rupture models\n",
    "    fakequakes.generate_ruptures(home,project_name,run_name,fault_name,slab_name,mesh_name,load_distances,\n",
    "        distances_name,UTM_zone,target_Mw,model_name,hurst,Ldip,Lstrike,num_modes,Nrealizations,rake,\n",
    "        rise_time_depths,time_epi,max_slip,source_time_function,lognormal,slip_standard_deviation,scaling_law,\n",
    "        ncpus,mean_slip_name=mean_slip_name,force_magnitude=force_magnitude,force_area=force_area,\n",
    "        hypocenter=hypocenter,force_hypocenter=force_hypocenter,shear_wave_fraction=shear_wave_fraction,\n",
    "        max_slip_rule=max_slip_rule)    \n",
    "    \n",
    "    end = time.time()\n",
    "    time_elaps = end - start\n",
    "    if time_elaps < 60:\n",
    "        print(f'Duration: {round(time_elaps)} seconds')\n",
    "    else:\n",
    "        print(f'Duration: {round(time_elaps/60)} minutes')"
   ]
  },
  {
   "cell_type": "markdown",
   "metadata": {},
   "source": [
    "### Rupture Dimensions\n",
    "<img src=\"./figures/fault.png\" style=\"width:400px;height:182px\"/>\n",
    "The dimensions of the fault rupture are determined by the target magnitude and rupture dimension scaling laws $\\eqref{eq:scaling law length}$$\\eqref{eq:scaling law width}$ (Blaser et al., 2010).\n",
    "\n",
    "\\begin{equation*}\n",
    "log_{10}L = -2.37 + 0.57M_{w}\n",
    "\\label{eq:scaling law length} \\tag{1}\n",
    "\\end{equation*}\n",
    "\n",
    "\\begin{equation*}\n",
    "log_{10}W = -1.86 + 0.46M_{w}\n",
    "\\label{eq:scaling law width} \\tag{2}\n",
    "\\end{equation*}\n",
    "\n",
    "To add some variability in the rupture dimensions of events of the same size, FakeQuakes uses a stochastic approach to the scaling laws $\\eqref{eq:stochastic scaling law}$.\n",
    "\n",
    "\\begin{equation*}\n",
    "log_{10}L \\sim N(a_{1} + b_{1}M_{w}, s^{2}_{xy})\n",
    "\\label{eq:stochastic scaling law} \\tag{3}\n",
    "\\end{equation*}\n",
    "\n",
    "### Slip Statistics\n",
    "<img src=\"./figures/slip.png\" style=\"width:400px;height:182px\"/>\n",
    "\n",
    "Unless a hypocenter is specified, a random subfault is chosen at the hypocenter.  \n",
    "<br>The slip on each subfault is normally distributed, and the vector __s__ contains all of the subfault slips $\\eqref{eq:slip vector}$.\n",
    "\n",
    "\\begin{equation*}\n",
    "s \\sim N(\\mu, \\hat{C})\n",
    "\\label{eq:slip vector} \\tag{4}\n",
    "\\end{equation*}\n",
    "\n",
    "<img src=\"./figures/slip_pdf.png\" style=\"width:440px;height:350px\"/>\n",
    "\n",
    "To produce a synthetic event with the desired magnitude, the mean vector, $\\mu$, has uniform slip and enough scalar moment to match the target magnitude we specified $\\eqref{eq:moment}$.\n",
    "\n",
    "\\begin{equation*}\n",
    "M_{0} = \\rho LW\\mu\n",
    "\\label{eq:moment} \\tag{5}\n",
    "\\end{equation*}\n",
    "\n",
    "$\\hat{C}$ is the covariance matrix of the slip distribution and is a function of the standard deviation of slip at each subfault and the correlation between each ith and jth subfault pair.  FakeQuakes uses the __Von Karman correlation function__ $\\eqref{eq:correlation function}$ because it represents fault slip patterns well. \n",
    "\n",
    "\\begin{equation*}\n",
    "C_{ij}(r_{ij}) = \\frac{G_H(r_{ij})}{G_0(r_{ij})}\n",
    "\\label{eq:correlation function} \\tag{6}\n",
    "\\end{equation*}\n",
    "\n",
    "\\begin{equation*}\n",
    "G_{H} = r^{H}_{ij}K_{H}(r_{ij})\n",
    "\\label{eq:GH} \\tag{7}\n",
    "\\end{equation*}\n",
    "\n",
    "- r$_{ij}$ is a length measure between subfaults i and j<br>(__Note__: This is not the actual distance.  It is a value dependent on the along strike and along dip distances between subfaults)\n",
    "- __H__ is the hurst exponent, which describes the steepness of decay of the correlation function in the wavenumber domain (defined in parameters)\n",
    "- K$_{H}$ is the modified Bessel function of the second kind\n",
    "    - solution to Bessel differential equation which is used when solving the 3D wave equation\n",
    "\n",
    "If $\\lambda$$_{k}$ and v$_{k}$ are the eigenvalues and eigen vectors of the correlation function C$_{ij}$, then the slip vector, s, can be expressed by the __Karhunen Loeve (K-L) expansion__ $\\eqref{eq:K-L expansion}$.  \n",
    "\n",
    "\\begin{equation*}\n",
    "s = \\mu + \\sum\\limits_{k=1}^N z_{k}\\sqrt{\\lambda_{k}v_{k}}\n",
    "\\label{eq:K-L expansion} \\tag{8}\n",
    "\\end{equation*}\n",
    "\n",
    "- N is the number of modes specified, and it can be any number up to the number of subaults in your mode.  The more modes you have, the better you can model the high frequency stuff, but it also takes longer to compute. \n",
    "- z$_{k}$ are normally distrubuted random numbers between 0-1 that are used as weights for each eigenmode\n",
    "\n",
    "\n",
    "### Kinematics \n",
    "<img src=\"./figures/rupture.gif\" style=\"width:400px;height:182px\"/>\n",
    "Now that we have the static slip distribution, we need to determine the kinematics of the rupture so that we can generate the waveforms.  \n",
    "\n",
    "The rupture onset time of each subfault is determined __(2-stage)__\n",
    "1. Background rupture distribution $\\eqref{eq:Vrupt}$ is determined using the shear-wave speed from the velocity model (V$_{s}$) and the shear-wave fraction parameter we set (SF)\n",
    "\\begin{equation*}\n",
    "V_{r} = (SF)(V_{s})\n",
    "\\label{eq:Vrupt} \\tag{9}\n",
    "\\end{equation*}\n",
    "    - There is a reduction in rupture speed at depths <10 km.  This is to account for the low shear-wave velocity at shallow depths in the accretionary wedge.\n",
    "    - Subfault onset times from this background distribution are perturbed so that there's faster propagation where slip is large (Graves and Pitarka, 2010).\n",
    "    - Risetime of each subfault (duration of slip) scaled by __√__(total slip on subfault) so that larger slips have longer risetimes\n",
    "2. A slip rate function is applied to determine how the slip evolved over time. "
   ]
  },
  {
   "cell_type": "markdown",
   "metadata": {},
   "source": [
    "### View .log file"
   ]
  },
  {
   "cell_type": "code",
   "execution_count": null,
   "metadata": {},
   "outputs": [],
   "source": [
    "logpath=f'{home}/{project_name}/output/ruptures/mentawai.000000.log'\n",
    "var=!cat $logpath\n",
    "var"
   ]
  },
  {
   "cell_type": "markdown",
   "metadata": {},
   "source": [
    "### View .rupt file"
   ]
  },
  {
   "cell_type": "code",
   "execution_count": null,
   "metadata": {},
   "outputs": [],
   "source": [
    "ruptpath=f'{home}{project_name}/output/ruptures/mentawai.000000.rupt'\n",
    "!head $ruptpath"
   ]
  },
  {
   "cell_type": "markdown",
   "metadata": {},
   "source": [
    "### Quick view of rupture models"
   ]
  },
  {
   "cell_type": "code",
   "execution_count": null,
   "metadata": {},
   "outputs": [],
   "source": [
    "%matplotlib inline\n",
    "#%matplotlib notebook\n",
    "view.quick_model(f'{home}{project_name}/output/ruptures/mentawai.000000.rupt')\n",
    "view.quick_model(f'{home}{project_name}/output/ruptures/mentawai.000001.rupt')"
   ]
  },
  {
   "cell_type": "markdown",
   "metadata": {},
   "source": [
    "<hr style=\"border:1px solid gray\"> </hr>"
   ]
  },
  {
   "cell_type": "markdown",
   "metadata": {},
   "source": [
    "# <center>Generate Low Frequency Displacement Waveforms</center>"
   ]
  },
  {
   "cell_type": "markdown",
   "metadata": {},
   "source": [
    "<a id='GFs'></a>\n",
    "***\n",
    "## <center>Compute Green's Functions</center>\n",
    "This step uses the __runslip.inversion__ function to generate the Green's Functions, which are seismograms for each subfault-station pair...one step closer to getting the final waveforms!  This uses the frequency-waveform (fk) integration code from Zhu and Rivera (2002)."
   ]
  },
  {
   "cell_type": "code",
   "execution_count": null,
   "metadata": {},
   "outputs": [],
   "source": [
    "# Increase number of CPUS to speed up computation time\n",
    "ncpus=4\n",
    "\n",
    "if project_name != 'demo':\n",
    "    start = time.time()     \n",
    "    \n",
    "    # Comput Green's functions\n",
    "    runslip.inversionGFs(home,project_name,GF_list,None,fault_name,model_name,\n",
    "            dt,None,NFFT,None,make_GFs,make_synthetics,dk,pmin,\n",
    "            pmax,kmax,0,time_epi,hot_start,ncpus,custom_stf,impulse=True) \n",
    "   \n",
    "    end = time.time()\n",
    "    time_elaps = end - start\n",
    "    if time_elaps < 60:\n",
    "        print(f'Duration: {round(time_elaps)} seconds')\n",
    "    else:\n",
    "        print(f'Duration: {round(time_elaps/60)} minutes')"
   ]
  },
  {
   "cell_type": "markdown",
   "metadata": {},
   "source": [
    "### Green's Functions (GFs)\n",
    "Green's functions are what the seismogram would look like for 1 meter of displacement, assuming a delta source.   \n",
    "<br> To calculate the GFs, we assume a layered half-space model and use a propagator matrix, which is what we use to go from stress changes along the fault to displacement at the surface.\n",
    "<table><tr>\n",
    "<td> <img src=\"./figures/delta_source.png\" style=\"width: 300px;\"/> </td>\n",
    "<td> <img src=\"./figures/half_space.png\" style=\"width: 300px;\"/> </td>\n",
    "<td> <img src=\"./figures/propagator_matrix.png\" style=\"width: 400px;\" /> </td>\n",
    "</tr></table>\n",
    "\n",
    "<br>__Figure 2.__ (left) Delta source (*from thoughtco.com*), (middle) Half-space model (*from Zhu and Rivera, 2002*), and (right) Propagator matrix (*from Zhu and rivera, 2002*).\n",
    "\n",
    "These Green's functions are made for every subfault-station pair.\n",
    "\n",
    "<img src=\"./figures/subfault_seismograms.png\" style=\"width:400px;height:250px\"/>\n",
    "\n",
    "<br>__Figure 3.__ Example subfault seismograms for one station (blue triangle).\n",
    "\n",
    "\n",
    "### Synthetics\n",
    "The GFs provide the static displacement, but we need to know how displcement evolved over time.  To obtain this, we convolve the GFs (*G*(*t*)) with a STF (*X*(*t*)) $\\eqref{eq:synthetic}$.  FakeQuakes refers to these products as synthetics (*S*(*t*)).\n",
    " \n",
    "\\begin{equation*}\n",
    "S(t) = X(t)\\circledast G(t)\n",
    "\\label{eq:synthetic} \\tag{9}\n",
    "\\end{equation*}"
   ]
  },
  {
   "cell_type": "markdown",
   "metadata": {},
   "source": [
    "***\n",
    "## <center>Make Low Frequency Waveforms</center>"
   ]
  },
  {
   "cell_type": "markdown",
   "metadata": {},
   "source": [
    "We can use the __forwaqrd.waveforms_fakequakes__ function to get the displacement waveforms at the different stations in our stations file using the synthetics we obtained in the last step.  "
   ]
  },
  {
   "cell_type": "code",
   "execution_count": null,
   "metadata": {},
   "outputs": [],
   "source": [
    "if project_name != 'demo':\n",
    "    start = time.time()\n",
    "    \n",
    "    #Make low frequency waveforms\n",
    "    forward.waveforms_fakequakes(home,project_name,fault_name,rupture_list,GF_list,\n",
    "            model_name,run_name,dt,NFFT,G_from_file,G_name,source_time_function,\n",
    "            stf_falloff_rate,hot_start=hot_start)\n",
    "    \n",
    "    end = time.time()\n",
    "    time_elaps = end - start\n",
    "    if time_elaps < 60:\n",
    "        print(f'Duration: {round(time_elaps)} seconds')\n",
    "    else:\n",
    "        print(f'Duration: {round(time_elaps/60)} minutes')"
   ]
  },
  {
   "cell_type": "markdown",
   "metadata": {},
   "source": [
    "The generation of LF waveforms is deterministic, which means it is based off of our understanding of how seismic waves propagate through a media.  This is done using a 1D velocity model and GFs.\n",
    "\n",
    "The GFs assume slip of 1 m, so we have to scale them to match the actual slip on the fault by multiplying each synthetic by the slip on that subfault.  The final waveforms for each station are the sum of the subfault synthetics associated with the station."
   ]
  },
  {
   "cell_type": "markdown",
   "metadata": {},
   "source": [
    "### Read in the displacement waveforms"
   ]
  },
  {
   "cell_type": "code",
   "execution_count": null,
   "metadata": {},
   "outputs": [],
   "source": [
    "st1 = read(f'{home}{project_name}/output/waveforms/mentawai.000000/BSAT.LYE.sac')\n",
    "tr1 = st1[0]\n",
    "st2 = read(f'{home}{project_name}/output/waveforms/mentawai.000000/BTHL.LYE.sac')\n",
    "tr2 = st2[0]\n",
    "\n",
    "tr1.plot()\n",
    "tr2.plot()"
   ]
  },
  {
   "cell_type": "markdown",
   "metadata": {},
   "source": [
    "<hr style=\"border:1px solid gray\"> </hr>"
   ]
  },
  {
   "cell_type": "markdown",
   "metadata": {},
   "source": [
    "# <center>Individual exercises</center>"
   ]
  },
  {
   "cell_type": "markdown",
   "metadata": {},
   "source": [
    "***\n",
    "## 1. Make your own .fault file\n",
    "\n",
    "FakeQuakes has a function (__forward.makefault__) to create a .fault file given a set of parameters. "
   ]
  },
  {
   "cell_type": "markdown",
   "metadata": {},
   "source": [
    "Define parameters"
   ]
  },
  {
   "cell_type": "code",
   "execution_count": null,
   "metadata": {},
   "outputs": [],
   "source": [
    "fout =                               # Path to save .fault file including the .fault extension name\n",
    "strike =                             # Strike of subfaults\n",
    "dip =                                # Dip of subfaults\n",
    "rise_time =                          # Risetime of subfaults (this value doesn't matter for the .fault file because it gets computed when the rupture files are generated)\n",
    "epicenter =                          # Center point of the fault [lon, lat, depth] (doesn't have to be the epicenter of your event)\n",
    "nstrike =                            # Number of subfaults along strike\n",
    "dx_dip =                             # Subfault length in the along-strike direction (km)\n",
    "dx_strike =                          # Subfault length in the along-dip direction (km)\n",
    "num_updip =                          # Number of rows of subfaults above hypocenter row\n",
    "num_downdip =                        # Number of rows of subfaults below hypocenter row"
   ]
  },
  {
   "cell_type": "markdown",
   "metadata": {},
   "source": [
    "Make fault file"
   ]
  },
  {
   "cell_type": "code",
   "execution_count": null,
   "metadata": {},
   "outputs": [],
   "source": [
    "forward.makefault(fout,strike,dip,nstrike,dx_dip,dx_strike,epicenter,num_updip,num_downdip,rise_time)"
   ]
  },
  {
   "cell_type": "markdown",
   "metadata": {},
   "source": [
    "View fault file"
   ]
  },
  {
   "cell_type": "code",
   "execution_count": null,
   "metadata": {},
   "outputs": [],
   "source": [
    "from numpy import genfromtxt\n",
    "import matplotlib.pyplot as plt\n",
    "\n",
    "# Read in .fault file\n",
    "f=genfromtxt(fout)\n",
    "\n",
    "# Longitude and latitude of each subfault\n",
    "lon=f[0:len(f),1]\n",
    "lat=f[0:len(f),2]\n",
    "    \n",
    "# Plot subfaults\n",
    "plt.figure(figsize=(5.2,10))\n",
    "plt.scatter(lon,lat,marker='o')\n",
    "plt.ylabel('Latitude')\n",
    "plt.xlabel('Longitude')\n",
    "plt.grid()\n",
    "plt.show()"
   ]
  },
  {
   "cell_type": "markdown",
   "metadata": {},
   "source": [
    "***\n",
    "## 2. Modify velocity model\n",
    "\n",
    "Examine how changes in the velocity model affect output waveforms.  You can adjust the thickness, velocity, or attenuation of the layers (or all of the above).\n",
    "\n",
    "Modify the .mod file, and then run the code below to remake the rupture models and waveforms. You'll want to create a new project folder for this exercise so that you can compare the results with those using the original .mod file.  "
   ]
  },
  {
   "cell_type": "code",
   "execution_count": null,
   "metadata": {},
   "outputs": [],
   "source": [
    "home = os.getcwd() + '/' # You can leave the home variable the same\n",
    "project_name='' \n",
    "\n",
    "fakequakes.init(home,project_name)"
   ]
  },
  {
   "cell_type": "markdown",
   "metadata": {},
   "source": [
    "Copy the input files into their respective folders"
   ]
  },
  {
   "cell_type": "code",
   "execution_count": null,
   "metadata": {},
   "outputs": [],
   "source": [
    "!cp ./files/mentawai.fault $home/$project_name/data/model_info\n",
    "!cp ./files/mentawai.mod $home/$project_name/structure\n",
    "!cp ./files/gnss.gflist $home/$project_name/data/station_info"
   ]
  },
  {
   "cell_type": "code",
   "execution_count": null,
   "metadata": {},
   "outputs": [],
   "source": [
    "# Generate rupture models\n",
    "fakequakes.generate_ruptures(home,project_name,run_name,fault_name,slab_name,mesh_name,load_distances,\n",
    "        distances_name,UTM_zone,target_Mw,model_name,hurst,Ldip,Lstrike,num_modes,Nrealizations,rake,\n",
    "        rise_time_depths,time_epi,max_slip,source_time_function,lognormal,slip_standard_deviation,scaling_law,\n",
    "        ncpus,mean_slip_name=mean_slip_name,force_magnitude=force_magnitude,force_area=force_area,\n",
    "        hypocenter=hypocenter,force_hypocenter=force_hypocenter,shear_wave_fraction=shear_wave_fraction,\n",
    "        max_slip_rule=max_slip_rule)    \n",
    "\n",
    "# Compute Green's functions\n",
    "runslip.inversionGFs(home,project_name,GF_list,None,fault_name,model_name,\n",
    "            dt,None,NFFT,None,make_GFs,make_synthetics,dk,pmin,\n",
    "            pmax,kmax,0,time_epi,hot_start,ncpus,custom_stf,impulse=True) \n",
    "\n",
    "# Make waveforms\n",
    "forward.waveforms_fakequakes(home,project_name,fault_name,rupture_list,GF_list,\n",
    "            model_name,run_name,dt,NFFT,G_from_file,G_name,source_time_function,\n",
    "            stf_falloff_rate,hot_start=hot_start)"
   ]
  },
  {
   "cell_type": "markdown",
   "metadata": {},
   "source": [
    "View the new waveforms"
   ]
  },
  {
   "cell_type": "code",
   "execution_count": null,
   "metadata": {},
   "outputs": [],
   "source": [
    "st1 = read(f'{home}/{project_name}/output/waveforms/{run_name}.000000/BSAT.LYE.sac')\n",
    "tr1 = st1[0]\n",
    "st2 = read(f'{home}/{project_name}/output/waveforms/{run_name}.000000/BTHL.LYE.sac')\n",
    "tr2 = st2[0]\n",
    "\n",
    "tr1.plot()\n",
    "tr2.plot()"
   ]
  },
  {
   "cell_type": "markdown",
   "metadata": {},
   "source": [
    "***\n",
    "## 3. Modify different rupture parameters\n",
    "\n",
    "Try generating your own rupture scenarios by modifying the magnitude and hypocenter. You can also set __magnitude__ to be an array of several magnitudes to compare rupture models of different sizes."
   ]
  },
  {
   "cell_type": "code",
   "execution_count": null,
   "metadata": {},
   "outputs": [],
   "source": [
    "home = os.getcwd() + '/' # You can leave the home variable the same\n",
    "project_name='' \n",
    "\n",
    "fakequakes.init(home,project_name)"
   ]
  },
  {
   "cell_type": "markdown",
   "metadata": {},
   "source": [
    "Copy input files into respective folders"
   ]
  },
  {
   "cell_type": "code",
   "execution_count": null,
   "metadata": {},
   "outputs": [],
   "source": [
    "!cp ./files/mentawai.fault $home/$project_name/data/model_info\n",
    "!cp ./files/mentawai.mod $home/$project_name/structure\n",
    "!cp ./files/gnss.gflist $home/$project_name/data/station_info"
   ]
  },
  {
   "cell_type": "markdown",
   "metadata": {},
   "source": [
    "Define parameters"
   ]
  },
  {
   "cell_type": "code",
   "execution_count": null,
   "metadata": {},
   "outputs": [],
   "source": [
    "magnitude = np.array([])\n",
    "hypocenter = []"
   ]
  },
  {
   "cell_type": "code",
   "execution_count": null,
   "metadata": {},
   "outputs": [],
   "source": [
    "# Generate rupture models\n",
    "fakequakes.generate_ruptures(home,project_name,run_name,fault_name,slab_name,mesh_name,load_distances,\n",
    "        distances_name,UTM_zone,target_Mw,model_name,hurst,Ldip,Lstrike,num_modes,Nrealizations,rake,\n",
    "        rise_time_depths,time_epi,max_slip,source_time_function,lognormal,slip_standard_deviation,scaling_law,\n",
    "        ncpus,mean_slip_name=mean_slip_name,force_magnitude=force_magnitude,force_area=force_area,\n",
    "        hypocenter=hypocenter,force_hypocenter=force_hypocenter,shear_wave_fraction=shear_wave_fraction,\n",
    "        max_slip_rule=max_slip_rule)    "
   ]
  },
  {
   "cell_type": "markdown",
   "metadata": {},
   "source": [
    "View rupture models"
   ]
  },
  {
   "cell_type": "code",
   "execution_count": null,
   "metadata": {},
   "outputs": [],
   "source": [
    "%matplotlib inline\n",
    "#%matplotlib notebook\n",
    "view.quick_model(f'{home}/{project_name}/output/{run_name}.000000.rupt')"
   ]
  },
  {
   "cell_type": "markdown",
   "metadata": {},
   "source": [
    "***\n",
    "## 4. Modify number of modes in the K-L expansion\n",
    "\n",
    "The number of modes can be any number up to the number of subfaults you have.  The higher number of modes in the K-L expansion, the greater the fine-scale resolution in rupture model.  However, computation time is longer.  You can modify __num_modes__ to see how it affects the rupture models.  "
   ]
  },
  {
   "cell_type": "code",
   "execution_count": null,
   "metadata": {},
   "outputs": [],
   "source": [
    "home = os.getcwd() + '/' # This sets the current working directory as the home path\n",
    "project_name='' \n",
    "\n",
    "fakequakes.init(home,project_name)"
   ]
  },
  {
   "cell_type": "markdown",
   "metadata": {},
   "source": [
    "Copy input files into respective folders"
   ]
  },
  {
   "cell_type": "code",
   "execution_count": null,
   "metadata": {},
   "outputs": [],
   "source": [
    "!cp ./files/mentawai.fault $home/$project_name/data/model_info\n",
    "!cp ./files/mentawai.mod $home/$project_name/structure\n",
    "!cp ./files/gnss.gflist $home/$project_name/data/station_info"
   ]
  },
  {
   "cell_type": "markdown",
   "metadata": {},
   "source": [
    "Define parameters"
   ]
  },
  {
   "cell_type": "code",
   "execution_count": null,
   "metadata": {},
   "outputs": [],
   "source": [
    "num_modes = "
   ]
  },
  {
   "cell_type": "code",
   "execution_count": null,
   "metadata": {},
   "outputs": [],
   "source": [
    "# Generate rupture models\n",
    "fakequakes.generate_ruptures(home,project_name,run_name,fault_name,slab_name,mesh_name,load_distances,\n",
    "        distances_name,UTM_zone,target_Mw,model_name,hurst,Ldip,Lstrike,num_modes,Nrealizations,rake,\n",
    "        rise_time_depths,time_epi,max_slip,source_time_function,lognormal,slip_standard_deviation,scaling_law,\n",
    "        ncpus,mean_slip_name=mean_slip_name,force_magnitude=force_magnitude,force_area=force_area,\n",
    "        hypocenter=hypocenter,force_hypocenter=force_hypocenter,shear_wave_fraction=shear_wave_fraction,\n",
    "        max_slip_rule=max_slip_rule) "
   ]
  },
  {
   "cell_type": "markdown",
   "metadata": {},
   "source": [
    "View rupture models"
   ]
  },
  {
   "cell_type": "code",
   "execution_count": null,
   "metadata": {},
   "outputs": [],
   "source": [
    "%matplotlib inline\n",
    "#%matplotlib notebook\n",
    "view.quick_model(f'{home}/{project_name}/output/{run_name}.000000.rupt')"
   ]
  },
  {
   "cell_type": "markdown",
   "metadata": {},
   "source": [
    "<a id='BB'></a>\n",
    "<hr style=\"border:1px solid gray\"> </hr>"
   ]
  },
  {
   "cell_type": "markdown",
   "metadata": {},
   "source": [
    "# <center> Final Notes </center>\n",
    "FakeQuakes Products\n",
    "* All rupture files are stored in __/output/ruptures/__\n",
    "* All waveforms are stored in __/output/waveforms/__\n",
    "    * __.LY*.sac__ files are the low-frequency displacement files\n",
    "\n",
    "If you have already generated data for a certain fault file and set of stations, you can use the subfault distances and Green's functions matrices that were created previously, rather than make them from scratch every time.  This will speed up computation time for future runs. \n",
    "- set **G_from_file=1**\n",
    "- set **load_distances=1**\n",
    "- copy over .mseed files from **/GFs/matrices** from your previous project folder to your new one\n",
    "- copy over files from **/data/distances** from your previous project folder to your new one\n",
    "\n",
    "**Note:** If you ever change your .fault or .gflist files, you need to set **G_from_file** and **load_distances** = 0. "
   ]
  },
  {
   "cell_type": "markdown",
   "metadata": {},
   "source": [
    "<a id='references'></a>\n",
    "<hr style=\"border:1px solid gray\"> </hr>"
   ]
  },
  {
   "cell_type": "markdown",
   "metadata": {},
   "source": [
    "### References\n",
    "Blaser, L., F. Krüger, M. Ohrnberger, and F. Scherbaum (2010), Scaling relations of earthquake source parameter estimates with special focus on subduction environment, Bull. Seism. Soc. Am., 100, 2914–2926.\n",
    "\n",
    "Graves, R., and A. Pitarka (2015), Refinements to the Graves and Pitarka (2010) broadband ground-motion simulation method, Seismol. Res. Lett., 86(1), 75–80.\n",
    "\n",
    "Graves, R. W., & Pitarka, A. (2010), Broadband Ground-Motion Simulation Using a Hybrid Approach. Bulletin of the Seismological Society of America, 100(5A), 2095-2123. doi:10.1785/0120100057\n",
    "\n",
    "Mai, P. M., and Beroza, G. C. (2002), A spatial random field model to characterize complexity in earthquake slip, J. Geophys. Res., 107(B11), 2308, doi:10.1029/2001JB000588\n",
    "\n",
    "Melgar, D., Leveque, R. J., Dreger, D. S., & Allen, R. M. (2016), Kinematic rupture scenarios and synthetic displacement data: An example application to the Cascadia subduction zone. Journal of Geophysical Research: Solid Earth, 121(9), 6658-6674, doi:10.1002/2016jb013314\n",
    "\n",
    "Yue, H., Lay, T., Rivera, L., Bai, Y., Yamazaki, Y., Cheung, K. F., … Muhari, A. (2014), Rupture process of the 2010 Mw 7.8 Mentawai tsunami earthquake from joint inversion of near-field hr-GPS and teleseismic body wave recordings constrained by tsunami observations. AGU: Journal of Geophysical Research, Solid Earth, 119, 5574–5593, doi:10.1002/2014JB011082\n",
    "\n",
    "Zhu, L., & Rivera, L. A. (2002), A note on the dynamic and static displacements from a point source in multilayered media. Geophysical Journal International, 148(3), 619-627, doi:10.1046/j.1365-246x.2002.01610.x"
   ]
  }
 ],
 "metadata": {
  "kernelspec": {
   "display_name": "Python 3 (ipykernel)",
   "language": "python",
   "name": "python3"
  },
  "language_info": {
   "codemirror_mode": {
    "name": "ipython",
    "version": 3
   },
   "file_extension": ".py",
   "mimetype": "text/x-python",
   "name": "python",
   "nbconvert_exporter": "python",
   "pygments_lexer": "ipython3",
   "version": "3.7.3"
  }
 },
 "nbformat": 4,
 "nbformat_minor": 4
}
